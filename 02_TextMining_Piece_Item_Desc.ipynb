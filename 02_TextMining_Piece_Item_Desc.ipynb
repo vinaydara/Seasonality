{
 "cells": [
  {
   "cell_type": "code",
   "execution_count": 1,
   "metadata": {},
   "outputs": [],
   "source": [
    "import pandas as pd\n",
    "df = pd.read_csv('/home/vinay_dara/Desktop/HK6/MothersDay/Data/input/input_5_prepared_distinct.csv')\n",
    "df['piece_item_desc'] = df['piece_item_desc'].astype(str)\n",
    "df['PIECE_ITEM_DESC_TEST'] = df['piece_item_desc']\n",
    "df['COMMODITY_DESC'] = df['piece_item_desc']\n",
    "\n",
    "#df.head()"
   ]
  },
  {
   "cell_type": "code",
   "execution_count": 2,
   "metadata": {},
   "outputs": [],
   "source": [
    "import re\n",
    "\n",
    "#cleaning the text data\n",
    "def pre_process(PIECE_ITEM_DESC_TEST):\n",
    "    \n",
    "    # lowercase\n",
    "    PIECE_ITEM_DESC_TEST=PIECE_ITEM_DESC_TEST.lower()\n",
    "    \n",
    "    #remove tags\n",
    "    PIECE_ITEM_DESC_TEST=re.sub(\"&lt;/?.*?&gt;\",\" &lt;&gt; \",PIECE_ITEM_DESC_TEST)\n",
    "    \n",
    "    # remove special characters and digits\n",
    "    PIECE_ITEM_DESC_TEST=re.sub(\"(\\\\d|\\\\W)+\",\" \",PIECE_ITEM_DESC_TEST)\n",
    "    \n",
    "    return PIECE_ITEM_DESC_TEST\n",
    "\n",
    "df['PIECE_ITEM_DESC_TEST'] = df['PIECE_ITEM_DESC_TEST'].apply(lambda x:pre_process(x))\n",
    "\n",
    "#Lemmatization\n",
    "import nltk\n",
    "from nltk.stem import WordNetLemmatizer\n",
    "from nltk.corpus import wordnet\n",
    "\n",
    "lemmatizer = WordNetLemmatizer()\n",
    "\n",
    "def nltk2wn_tag(nltk_tag):\n",
    "  if nltk_tag.startswith('J'):\n",
    "    return wordnet.ADJ\n",
    "  elif nltk_tag.startswith('V'):\n",
    "    return wordnet.VERB\n",
    "  elif nltk_tag.startswith('N'):\n",
    "    return wordnet.NOUN\n",
    "  elif nltk_tag.startswith('R'):\n",
    "    return wordnet.ADV\n",
    "  else:          \n",
    "    return None\n",
    "\n",
    "def lemmatize_sentence(sentence):\n",
    "  nltk_tagged = nltk.pos_tag(nltk.word_tokenize(sentence))  \n",
    "  wn_tagged = map(lambda x: (x[0], nltk2wn_tag(x[1])), nltk_tagged)\n",
    "  res_words = []\n",
    "  for word, tag in wn_tagged:\n",
    "    if tag is None:            \n",
    "      res_words.append(word)\n",
    "    else:\n",
    "      res_words.append(lemmatizer.lemmatize(word, tag))\n",
    "  return \" \".join(res_words)\n",
    "\n",
    "df['PIECE_ITEM_DESC_TEST'] = df.PIECE_ITEM_DESC_TEST.apply(lemmatize_sentence)\n",
    "#df.head()"
   ]
  },
  {
   "cell_type": "code",
   "execution_count": 78,
   "metadata": {},
   "outputs": [],
   "source": [
    "#Text Mining and Representation\n",
    "for idx, row in df.iterrows():    \n",
    "    #flowers\n",
    "    matchFlowers = re.search(r'\\bflower\\b|\\bfresh flower\\b|\\bfoliage\\b|\\bcutflower\\b|\\bcutflowers\\b|\\bflowers\\b',row['PIECE_ITEM_DESC_TEST'])\n",
    "    matchTulips = re.search(r'\\btulip\\b|\\btulips\\b',row['PIECE_ITEM_DESC_TEST'])\n",
    "    matchRoses = re.search(r'\\brose\\b|\\broses\\b',row['PIECE_ITEM_DESC_TEST'])\n",
    "    matchLillies = re.search(r'\\blily\\b|\\blillies\\b',row['PIECE_ITEM_DESC_TEST'])\n",
    "    matchTropical = re.search(r'\\btropical* flower\\b',row['PIECE_ITEM_DESC_TEST'])\n",
    "    matchLoroco = re.search(r'\\bloroco\\b',row['PIECE_ITEM_DESC_TEST'])\n",
    "\n",
    "    if matchFlowers:\n",
    "        df.loc[idx,'COMMODITY_DESC'] = \"CUT FLOWERS FOLIAGE CUTTIN\"\n",
    "    elif matchTulips:\n",
    "        df.loc[idx,'COMMODITY_DESC'] = \"TULIPS\"\n",
    "    elif matchRoses:\n",
    "        df.loc[idx,'COMMODITY_DESC'] = \"ROSES\"\n",
    "    elif matchLillies:\n",
    "        df.loc[idx,'COMMODITY_DESC'] = \"LILLIES\"\n",
    "    elif matchLoroco:\n",
    "        df.loc[idx,'COMMODITY_DESC'] = \"LOROCO\"\n",
    "    elif matchTropical:\n",
    "        df.loc[idx,'COMMODITY_DESC'] = \"TROPICAL FLOWERS\"\n",
    "    #elif True:\n",
    "        #df.drop(idx, inplace=True)"
   ]
  },
  {
   "cell_type": "code",
   "execution_count": 79,
   "metadata": {},
   "outputs": [],
   "source": [
    "df.to_csv('/home/vinay_dara/Desktop/HK6/MothersDay/Data/output/output_5.csv')"
   ]
  },
  {
   "cell_type": "code",
   "execution_count": null,
   "metadata": {
    "collapsed": true
   },
   "outputs": [],
   "source": []
  }
 ],
 "metadata": {
  "kernelspec": {
   "display_name": "Python 3",
   "language": "python",
   "name": "python3"
  },
  "language_info": {
   "codemirror_mode": {
    "name": "ipython",
    "version": 3
   },
   "file_extension": ".py",
   "mimetype": "text/x-python",
   "name": "python",
   "nbconvert_exporter": "python",
   "pygments_lexer": "ipython3",
   "version": "3.7.3"
  }
 },
 "nbformat": 4,
 "nbformat_minor": 2
}
